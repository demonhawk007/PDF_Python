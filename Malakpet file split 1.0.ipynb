{
 "cells": [
  {
   "cell_type": "code",
   "execution_count": 1,
   "metadata": {},
   "outputs": [],
   "source": [
    "from PyPDF2 import PdfFileReader, PdfFileWriter, PdfFileMerger\n",
    "import glob\n",
    "from natsort import natsorted\n",
    "import os\n",
    "import pandas as pd"
   ]
  },
  {
   "cell_type": "code",
   "execution_count": 2,
   "metadata": {},
   "outputs": [],
   "source": [
    "os.chdir(r'F://GHMC')"
   ]
  },
  {
   "cell_type": "code",
   "execution_count": 3,
   "metadata": {},
   "outputs": [],
   "source": [
    "inputpdf = PdfFileReader(open(r'Malakpet.pdf', 'rb'))"
   ]
  },
  {
   "cell_type": "code",
   "execution_count": 4,
   "metadata": {},
   "outputs": [],
   "source": [
    "for i in range(2, inputpdf.numPages):\n",
    "    merger = PdfFileMerger()\n",
    "    output = PdfFileWriter()\n",
    "    output.addPage(inputpdf.getPage(i))\n",
    "    with open(f'Malakpet_page{i}.pdf','wb') as outputstream:\n",
    "        try:\n",
    "            merger.append(output.write(outputstream))\n",
    "        except AttributeError:\n",
    "            pass\n",
    "    outputstream.close()"
   ]
  },
  {
   "cell_type": "code",
   "execution_count": 5,
   "metadata": {},
   "outputs": [],
   "source": [
    "pdfs = glob.glob('Malakpet_page*.pdf')\n",
    "new_merged_pdf = 'new_merged.pdf'"
   ]
  },
  {
   "cell_type": "code",
   "execution_count": 6,
   "metadata": {},
   "outputs": [],
   "source": [
    "merged_pdf = PdfFileMerger()"
   ]
  },
  {
   "cell_type": "code",
   "execution_count": 7,
   "metadata": {},
   "outputs": [],
   "source": [
    "for pdf in natsorted(pdfs):\n",
    "    merged_pdf.append(open(pdf,'rb'))\n",
    "merged_pdf.write(open(new_merged_pdf,'wb'))\n",
    "merged_pdf.close()"
   ]
  },
  {
   "cell_type": "code",
   "execution_count": 8,
   "metadata": {},
   "outputs": [],
   "source": [
    "! rm -r Malakpet_page*.pdf"
   ]
  },
  {
   "cell_type": "code",
   "execution_count": 7,
   "metadata": {},
   "outputs": [],
   "source": [
    "# for pdf in natsorted(pdfs):\n",
    "#     with open(pdf,'rb') as f:\n",
    "#         merged_pdf.append(f)\n",
    "# t=open(new_merged_pdf,'wb')\n",
    "# merged_pdf.write(t)\n",
    "# merged_pdf.close()\n",
    "# t.close()"
   ]
  },
  {
   "cell_type": "code",
   "execution_count": null,
   "metadata": {},
   "outputs": [],
   "source": []
  }
 ],
 "metadata": {
  "kernelspec": {
   "display_name": "Python 3",
   "language": "python",
   "name": "python3"
  },
  "language_info": {
   "codemirror_mode": {
    "name": "ipython",
    "version": 3
   },
   "file_extension": ".py",
   "mimetype": "text/x-python",
   "name": "python",
   "nbconvert_exporter": "python",
   "pygments_lexer": "ipython3",
   "version": "3.6.5"
  }
 },
 "nbformat": 4,
 "nbformat_minor": 2
}
